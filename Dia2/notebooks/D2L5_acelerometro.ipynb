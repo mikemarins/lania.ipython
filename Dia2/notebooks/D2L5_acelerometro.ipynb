{
 "cells": [
  {
   "cell_type": "markdown",
   "metadata": {},
   "source": [
    "# Dia 2, Libreta 5 acelerometro\n",
    "\n",
    "En esta libreta accederemos a los datos de su acelerometro. Nuevamente importen el modulo y creen un objeto `android`."
   ]
  },
  {
   "cell_type": "code",
   "execution_count": 1,
   "metadata": {
    "collapsed": true
   },
   "outputs": [],
   "source": [
    "import android\n",
    "droide=android.Android()"
   ]
  },
  {
   "cell_type": "code",
   "execution_count": 2,
   "metadata": {
    "collapsed": false
   },
   "outputs": [
    {
     "data": {
      "text/plain": [
       "Result(id=0, result=None, error=None)"
      ]
     },
     "execution_count": 2,
     "metadata": {},
     "output_type": "execute_result"
    }
   ],
   "source": [
    "droide.ttsSpeak(\"hola bato\")"
   ]
  },
  {
   "cell_type": "code",
   "execution_count": 3,
   "metadata": {
    "collapsed": true
   },
   "outputs": [],
   "source": [
    "# 100ms entre lecturas\n",
    "dt = 100\n",
    "# duracion de la muestras\n",
    "fin = 3000"
   ]
  },
  {
   "cell_type": "markdown",
   "metadata": {},
   "source": [
    "Inicializamos el tiempo de censado e iniciamos censado en el dispositivo"
   ]
  },
  {
   "cell_type": "code",
   "execution_count": 16,
   "metadata": {
    "collapsed": false
   },
   "outputs": [
    {
     "name": "stdout",
     "output_type": "stream",
     "text": [
      "java.lang.RuntimeException: SensorListener was already launched,close it first.\n"
     ]
    },
    {
     "data": {
      "text/plain": [
       "Result(id=71, result=None, error=u'java.lang.RuntimeException: SensorListener was already launched,close it first.')"
      ]
     },
     "execution_count": 16,
     "metadata": {},
     "output_type": "execute_result"
    }
   ],
   "source": [
    "tiempo = 0\n",
    "droide.startSensingTimed(2,dt)"
   ]
  },
  {
   "cell_type": "markdown",
   "metadata": {},
   "source": [
    "La siguiente instruccion regresa los valores de la lectura del acelerometro:"
   ]
  },
  {
   "cell_type": "code",
   "execution_count": 17,
   "metadata": {
    "collapsed": false
   },
   "outputs": [
    {
     "data": {
      "text/plain": [
       "Result(id=72, result=[-0.18435353, 0.17118542, 9.473856], error=None)"
      ]
     },
     "execution_count": 17,
     "metadata": {},
     "output_type": "execute_result"
    }
   ],
   "source": [
    "droide.sensorsReadAccelerometer()"
   ]
  },
  {
   "cell_type": "markdown",
   "metadata": {},
   "source": [
    "Guardaremos estas lecturas en una variable que contendra los datos"
   ]
  },
  {
   "cell_type": "code",
   "execution_count": 18,
   "metadata": {
    "collapsed": true
   },
   "outputs": [],
   "source": [
    "lecturas = []"
   ]
  },
  {
   "cell_type": "markdown",
   "metadata": {},
   "source": [
    "Ahora censamos hasta que el tiempo alcance el tiempo de sensado"
   ]
  },
  {
   "cell_type": "code",
   "execution_count": 19,
   "metadata": {
    "collapsed": false
   },
   "outputs": [],
   "source": [
    "import time\n",
    "while tiempo <= fin:\n",
    "    lecturas.append(droide.sensorsReadAccelerometer().result)\n",
    "    time.sleep(dt/1000.0)\n",
    "    tiempo += dt\n",
    "    \n",
    "droide.stopSensing();"
   ]
  },
  {
   "cell_type": "code",
   "execution_count": 26,
   "metadata": {
    "collapsed": false
   },
   "outputs": [
    {
     "data": {
      "text/plain": [
       "[[-0.39145198, 9.215282, 4.88058],\n",
       " [0.5434838, 9.831789, 3.1675289],\n",
       " [-2.918532, 4.618415, 15.905879],\n",
       " [-6.1004257, 2.7856536, -5.7520695],\n",
       " [-6.0106435, 14.476541, -17.20234],\n",
       " [-11.366472, 12.23437, -2.7928362],\n",
       " [-1.9440918, -0.18435353, 14.407108],\n",
       " [-1.3395559, 0.4357447, 24.06891],\n",
       " [4.608838, -0.8822633, -5.1678843],\n",
       " [7.171831, 0.020350715, 0.3842694],\n",
       " [-12.542026, 0.1316811, 7.2388687],\n",
       " [-22.440853, 5.5485625, -0.8738836],\n",
       " [-27.576416, 1.2066777, 22.448034],\n",
       " [-15.285781, -2.0578163, 10.96305],\n",
       " [-6.849811, -5.922058, 4.961983],\n",
       " [2.4779987, -6.975507, 15.180436],\n",
       " [7.5944076, -5.3965306, 5.554548],\n",
       " [8.895657, -1.8291701, -8.6334915],\n",
       " [6.897695, 0.61052144, 1.7166426],\n",
       " [-3.8067808, 3.205836, 5.4264584],\n",
       " [-20.150799, 7.7560163, -2.8646624],\n",
       " [-22.86343, 6.7827735, 11.139024],\n",
       " [-12.326548, 0.545878, 12.58991],\n",
       " [-0.7134721, -1.7345991, 0.108936176],\n",
       " [5.5030727, -6.506243, 3.2597055],\n",
       " [8.474277, -11.168951, 17.468096],\n",
       " [3.930082, -4.2341456, 13.570335],\n",
       " [-1.8004397, 2.825158, 1.2306197],\n",
       " [4.3299136, 2.315193, -5.554548],\n",
       " [-1.7429788, 4.1132383, -8.474277],\n",
       " [-5.887342, 2.4779987, -9.002198]]"
      ]
     },
     "execution_count": 26,
     "metadata": {},
     "output_type": "execute_result"
    }
   ],
   "source": [
    "lecturas"
   ]
  },
  {
   "cell_type": "code",
   "execution_count": 4,
   "metadata": {
    "collapsed": true
   },
   "outputs": [],
   "source": [
    "import pandas as pd\n",
    "%matplotlib inline"
   ]
  },
  {
   "cell_type": "code",
   "execution_count": 23,
   "metadata": {
    "collapsed": false
   },
   "outputs": [],
   "source": [
    "df = pd.DataFrame(lecturas, columns=['x','y','z'])"
   ]
  },
  {
   "cell_type": "code",
   "execution_count": 24,
   "metadata": {
    "collapsed": false
   },
   "outputs": [
    {
     "name": "stdout",
     "output_type": "stream",
     "text": [
      "<class 'pandas.core.frame.DataFrame'>\n",
      "Int64Index: 31 entries, 0 to 30\n",
      "Data columns (total 3 columns):\n",
      "x    31 non-null float64\n",
      "y    31 non-null float64\n",
      "z    31 non-null float64\n",
      "dtypes: float64(3)\n",
      "memory usage: 992.0 bytes\n"
     ]
    }
   ],
   "source": [
    "df.info()"
   ]
  },
  {
   "cell_type": "code",
   "execution_count": 25,
   "metadata": {
    "collapsed": false
   },
   "outputs": [
    {
     "data": {
      "text/plain": [
       "<matplotlib.axes._subplots.AxesSubplot at 0xae73978>"
      ]
     },
     "execution_count": 25,
     "metadata": {},
     "output_type": "execute_result"
    },
    {
     "data": {
      "image/png": "[encoded data removed]",
      "text/plain": [
       "<matplotlib.figure.Figure at 0x3f653c8>"
      ]
     },
     "metadata": {},
     "output_type": "display_data"
    }
   ],
   "source": [
    "df.plot()"
   ]
  },
  {
   "cell_type": "markdown",
   "metadata": {},
   "source": [
    "# Ejercicio\n",
    "\n",
    "Escriban un script que lleve a cabo unicamente la lectura de los datos del acelerometro de su dispositivo y copienlo en el folder correspondiente para ejecutarlo desde sus dispositivos."
   ]
  },
  {
   "cell_type": "code",
   "execution_count": 1,
   "metadata": {
    "collapsed": false
   },
   "outputs": [
    {
     "name": "stdout",
     "output_type": "stream",
     "text": [
      "Overwriting LecturaAccel.py\n"
     ]
    }
   ],
   "source": [
    "%%file LecturaAccel.py\n",
    "import android\n",
    "import csv\n",
    "droide=android.Android()\n",
    "archivo = droide.dialogGetInput(\"Nombre de archivo para resultados:\")\n",
    "# 100ms entre lecturas\n",
    "dt = 100\n",
    "# duracion de la muestras\n",
    "fin = 30000\n",
    "tiempo = 0\n",
    "droide.startSensingTimed(2,dt)\n",
    "droide.sensorsReadAccelerometer()\n",
    "lecturas = []\n",
    "import time\n",
    "while tiempo <= fin:\n",
    "    lecturas.append(droide.sensorsReadAccelerometer().result)\n",
    "    time.sleep(dt/1000.0)\n",
    "    tiempo += dt\n",
    "    \n",
    "droide.stopSensing();\n",
    "with open(archivo.result+\".csv\", 'w') as fp:\n",
    "    a = csv.writer(fp,delimiter=',')\n",
    "    a.writerows(lecturas)"
   ]
  },
  {
   "cell_type": "code",
   "execution_count": 2,
   "metadata": {
    "collapsed": false
   },
   "outputs": [
    {
     "name": "stderr",
     "output_type": "stream",
     "text": [
      "9 KB/s (574 bytes in 0.058s)\n"
     ]
    }
   ],
   "source": [
    "!adb push LecturaAccel.py /sdcard/sl4a/scripts"
   ]
  },
  {
   "cell_type": "code",
   "execution_count": 5,
   "metadata": {
    "collapsed": false
   },
   "outputs": [],
   "source": [
    "df = pd.read_csv('resultados.csv',header=0)"
   ]
  },
  {
   "cell_type": "code",
   "execution_count": 6,
   "metadata": {
    "collapsed": false
   },
   "outputs": [
    {
     "name": "stdout",
     "output_type": "stream",
     "text": [
      "<class 'pandas.core.frame.DataFrame'>\n",
      "Int64Index: 300 entries, 0 to 299\n",
      "Data columns (total 3 columns):\n",
      "Unnamed: 0    300 non-null float64\n",
      "Unnamed: 1    300 non-null float64\n",
      "Unnamed: 2    300 non-null float64\n",
      "dtypes: float64(3)\n",
      "memory usage: 9.4 KB\n"
     ]
    }
   ],
   "source": [
    "df.info()"
   ]
  },
  {
   "cell_type": "code",
   "execution_count": 7,
   "metadata": {
    "collapsed": false
   },
   "outputs": [
    {
     "data": {
      "text/plain": [
       "<matplotlib.axes._subplots.AxesSubplot at 0xbc44cc0>"
      ]
     },
     "execution_count": 7,
     "metadata": {},
     "output_type": "execute_result"
    },
    {
     "data": {
      "image/png": "[encoded data removed]",
      "text/plain": [
       "<matplotlib.figure.Figure at 0xbc447f0>"
      ]
     },
     "metadata": {},
     "output_type": "display_data"
    }
   ],
   "source": [
    "df.plot()"
   ]
  },
  {
   "cell_type": "code",
   "execution_count": 12,
   "metadata": {
    "collapsed": false
   },
   "outputs": [
    {
     "ename": "SyntaxError",
     "evalue": "invalid syntax (<ipython-input-12-816ad0575250>, line 1)",
     "output_type": "error",
     "traceback": [
      "\u001b[1;36m  File \u001b[1;32m\"<ipython-input-12-816ad0575250>\"\u001b[1;36m, line \u001b[1;32m1\u001b[0m\n\u001b[1;33m    droide.button()?\u001b[0m\n\u001b[1;37m                   ^\u001b[0m\n\u001b[1;31mSyntaxError\u001b[0m\u001b[1;31m:\u001b[0m invalid syntax\n"
     ]
    }
   ],
   "source": [
    "droide.button()?"
   ]
  }
 ],
 "metadata": {
  "kernelspec": {
   "display_name": "Python 2",
   "language": "python",
   "name": "python2"
  },
  "language_info": {
   "codemirror_mode": {
    "name": "ipython",
    "version": 2
   },
   "file_extension": ".py",
   "mimetype": "text/x-python",
   "name": "python",
   "nbconvert_exporter": "python",
   "pygments_lexer": "ipython2",
   "version": "2.7.10"
  }
 },
 "nbformat": 4,
 "nbformat_minor": 0
}
