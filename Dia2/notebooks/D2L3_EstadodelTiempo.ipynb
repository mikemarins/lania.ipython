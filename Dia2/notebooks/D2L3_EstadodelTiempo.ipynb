{
 "cells": [
  {
   "cell_type": "markdown",
   "metadata": {},
   "source": [
    "# Dia 2, Libreta 3 Estado del tiempo\n",
    "A continuacion vamos a hacer un ejercicio de programacion con Python en la libreta y despues en el dispositivo. \n",
    "\n",
    "El objetivo de este ejercicio es solicitar la temperatura a un servicio en linea, [weatherunderground](http://www.wunderground.com) utilizando la API del servicio.\n",
    "\n",
    "## Buscando informacion en weather underground\n",
    "\n",
    "Abran el interprete de Python en su dispositivo y escriban lo siguiente:\n",
    "\n",
    "[vea](http://www.wunderground.com/weather/api/d/docs?d=data/index&MR=1)\n"
   ]
  },
  {
   "cell_type": "code",
   "execution_count": 12,
   "metadata": {
    "collapsed": false
   },
   "outputs": [
    {
     "ename": "KeyError",
     "evalue": "'location'",
     "output_type": "error",
     "traceback": [
      "\u001b[1;31m---------------------------------------------------------------------------\u001b[0m",
      "\u001b[1;31mKeyError\u001b[0m                                  Traceback (most recent call last)",
      "\u001b[1;32m<ipython-input-12-7b09ba4f10df>\u001b[0m in \u001b[0;36m<module>\u001b[1;34m()\u001b[0m\n\u001b[0;32m      5\u001b[0m \u001b[0mjson_string\u001b[0m \u001b[1;33m=\u001b[0m \u001b[0mf\u001b[0m\u001b[1;33m.\u001b[0m\u001b[0mread\u001b[0m\u001b[1;33m(\u001b[0m\u001b[1;33m)\u001b[0m\u001b[1;33m\u001b[0m\u001b[0m\n\u001b[0;32m      6\u001b[0m \u001b[0mparsed_json\u001b[0m \u001b[1;33m=\u001b[0m \u001b[0mjson\u001b[0m\u001b[1;33m.\u001b[0m\u001b[0mloads\u001b[0m\u001b[1;33m(\u001b[0m\u001b[0mjson_string\u001b[0m\u001b[1;33m)\u001b[0m\u001b[1;33m\u001b[0m\u001b[0m\n\u001b[1;32m----> 7\u001b[1;33m \u001b[0mlocation\u001b[0m \u001b[1;33m=\u001b[0m \u001b[0mparsed_json\u001b[0m\u001b[1;33m[\u001b[0m\u001b[1;34m'location'\u001b[0m\u001b[1;33m]\u001b[0m\u001b[1;33m[\u001b[0m\u001b[1;34m'city'\u001b[0m\u001b[1;33m]\u001b[0m\u001b[1;33m\u001b[0m\u001b[0m\n\u001b[0m\u001b[0;32m      8\u001b[0m \u001b[0mtemp_f\u001b[0m \u001b[1;33m=\u001b[0m \u001b[0mparsed_json\u001b[0m\u001b[1;33m[\u001b[0m\u001b[1;34m'current_observation'\u001b[0m\u001b[1;33m]\u001b[0m\u001b[1;33m[\u001b[0m\u001b[1;34m'temp_c'\u001b[0m\u001b[1;33m]\u001b[0m\u001b[1;33m\u001b[0m\u001b[0m\n\u001b[0;32m      9\u001b[0m \u001b[1;32mprint\u001b[0m \u001b[1;34m\"La temperatura actual en %s es: %s C\"\u001b[0m \u001b[1;33m%\u001b[0m \u001b[1;33m(\u001b[0m\u001b[0mlocation\u001b[0m\u001b[1;33m,\u001b[0m \u001b[0mtemp_f\u001b[0m\u001b[1;33m)\u001b[0m\u001b[1;33m\u001b[0m\u001b[0m\n",
      "\u001b[1;31mKeyError\u001b[0m: 'location'"
     ]
    }
   ],
   "source": [
    "import urllib2\n",
    "import json\n",
    "\n",
    "f = urllib2.urlopen('http://api.wunderground.com/api/0def10027afaebb7/geolookup/conditions/forecast/q/Mexico/Mexico.json')\n",
    "json_string = f.read()\n",
    "parsed_json = json.loads(json_string)\n",
    "location = parsed_json['location']['city']\n",
    "temp_f = parsed_json['current_observation']['temp_c']\n",
    "print \"La temperatura actual en %s es: %s C\" % (location, temp_f)\n",
    "f.close()"
   ]
  },
  {
   "cell_type": "markdown",
   "metadata": {},
   "source": [
    "# Ejercicio 1\n",
    "\n",
    "Modificar el codigo anterior para que la temperatura se imprima en grados Centigrados. _Sugerencia_: Vean el diccionario JSON que regresa el servicio: `parsed_json`"
   ]
  },
  {
   "cell_type": "markdown",
   "metadata": {},
   "source": [
    "A continuacion, copien las lineas de codigo a un archivo con extension `.py`. En las libretas es muy facil pues lo unico que tienen que hacer es agregar una instruccion `%%file _nombre_.py`, donde `_nombre_` es el nombre del archivo como quieren guardarlo:"
   ]
  },
  {
   "cell_type": "code",
   "execution_count": 7,
   "metadata": {
    "collapsed": false
   },
   "outputs": [
    {
     "name": "stdout",
     "output_type": "stream",
     "text": [
      "Overwriting tempMexicoF.py\n"
     ]
    }
   ],
   "source": [
    "%%file tempMexicoF.py\n",
    "import urllib2\n",
    "import json\n",
    "\n",
    "f = urllib2.urlopen('http://api.wunderground.com/api/0def10027afaebb7/geolookup/conditions/forecast/q/Mexico/Mexico.json')\n",
    "json_string = f.read()\n",
    "parsed_json = json.loads(json_string)\n",
    "location = parsed_json['location']['city']\n",
    "temp_f = parsed_json['current_observation']['temp_f']\n",
    "print \"La temperatura actual en %s es: %s F\" % (location, temp_f)\n",
    "f.close()"
   ]
  },
  {
   "cell_type": "markdown",
   "metadata": {},
   "source": [
    "Pueden verificar que el archivo efectivamente se guardo en su ruta local usando la instruccion `!dir`, la cual usa el comando del OS `dir` para listar los archivos en el folder actual"
   ]
  },
  {
   "cell_type": "code",
   "execution_count": 2,
   "metadata": {
    "collapsed": false
   },
   "outputs": [
    {
     "name": "stdout",
     "output_type": "stream",
     "text": [
      " El volumen de la unidad C no tiene etiqueta.\n",
      " El n£mero de serie del volumen es: E462-7044\n",
      "\n",
      " Directorio de C:\\Users\\jaguilera\\Documents\\GitHub\\lania.ipython\\Dia2\\notebooks\n",
      "\n",
      "31/10/2015  13:19    <DIR>          .\n",
      "31/10/2015  13:19    <DIR>          ..\n",
      "31/10/2015  12:31    <DIR>          .ipynb_checkpoints\n",
      "31/10/2015  09:42               525 acelerometro.py\n",
      "31/10/2015  09:42            60,541 carota.jpg\n",
      "31/10/2015  12:26             5,210 D2L1_Recap.ipynb\n",
      "31/10/2015  10:59             4,492 D2L2_Interactuando_con_dispositivo.ipynb\n",
      "31/10/2015  12:57             8,261 D2L3_EstadodelTiempo.ipynb\n",
      "31/10/2015  12:26            36,371 D2L4_Sensores.ipynb\n",
      "31/10/2015  13:19            41,400 D2L5_acelerometro.ipynb\n",
      "31/10/2015  09:42           162,001 D2L6_Detectando_rostros.ipynb\n",
      "31/10/2015  09:42         1,637,081 D2Ln_InputOutputPython.ipynb\n",
      "31/10/2015  09:42             4,794 D2S1L02_Adquiriendo_datos_gps.ipynb\n",
      "31/10/2015  09:42           963,439 haarcascade_frontalface_default.xml\n",
      "31/10/2015  13:08               498 LecturaAccel.py\n",
      "31/10/2015  09:42         1,758,383 maps.html\n",
      "31/10/2015  13:15            15,719 resultados.csv\n",
      "31/10/2015  09:42               546 tempMexicoCToastAndDialog.py\n",
      "31/10/2015  11:11               393 tempMexicoF.py\n",
      "31/10/2015  09:42    <DIR>          Tutoriales\n",
      "31/10/2015  09:42             2,472 Untitled.ipynb\n",
      "31/10/2015  09:42            70,995 ZuzanaB.jpg\n",
      "              18 archivos      4,773,121 bytes\n",
      "               4 dirs  70,583,070,720 bytes libres\n"
     ]
    }
   ],
   "source": [
    "!dir"
   ]
  },
  {
   "cell_type": "markdown",
   "metadata": {},
   "source": [
    "Ahora copien el script al dispositivo."
   ]
  },
  {
   "cell_type": "code",
   "execution_count": 9,
   "metadata": {
    "collapsed": false
   },
   "outputs": [
    {
     "name": "stderr",
     "output_type": "stream",
     "text": [
      "6 KB/s (393 bytes in 0.063s)\n"
     ]
    }
   ],
   "source": [
    "!adb push tempMexicoF.py /sdcard/sl4a/scripts"
   ]
  },
  {
   "cell_type": "markdown",
   "metadata": {},
   "source": [
    "Revisen su dispositivo, en la lista de scripts deben encontrar el archivo que acaban de copiar. Ejecutenlo y observen lo que ocurre.\n",
    "\n",
    "# Ejercicio 2\n",
    "\n",
    "Modificar el script anterior para que la temperatura se despliegue en la pantalla del dispositivo usando primero el metodo `makeToast` y despues una GUI. **NOTA:** usen la informacion de referencia de la APIA: [API Reference](https://github.com/damonkohler/sl4a/blob/wiki/ApiReference.md)"
   ]
  }
 ],
 "metadata": {
  "kernelspec": {
   "display_name": "Python 2",
   "language": "python",
   "name": "python2"
  },
  "language_info": {
   "codemirror_mode": {
    "name": "ipython",
    "version": 2
   },
   "file_extension": ".py",
   "mimetype": "text/x-python",
   "name": "python",
   "nbconvert_exporter": "python",
   "pygments_lexer": "ipython2",
   "version": "2.7.10"
  }
 },
 "nbformat": 4,
 "nbformat_minor": 0
}
