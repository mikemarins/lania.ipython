{
 "cells": [
  {
   "cell_type": "markdown",
   "metadata": {},
   "source": [
    "Realizamos la conexion al telefono en el puerto 9999 corriendo el servidor en el telefono SL4A"
   ]
  },
  {
   "cell_type": "code",
   "execution_count": 8,
   "metadata": {
    "collapsed": false
   },
   "outputs": [
    {
     "name": "stderr",
     "output_type": "stream",
     "text": [
      "error: device '(null)' not found\n",
      "error: device '(null)' not found\n"
     ]
    }
   ],
   "source": [
    "!adb forward tcp:9999 tcp:9999"
   ]
  },
  {
   "cell_type": "code",
   "execution_count": 9,
   "metadata": {
    "collapsed": false
   },
   "outputs": [
    {
     "name": "stdout",
     "output_type": "stream",
     "text": [
      "List of devices attached\n",
      "\n"
     ]
    }
   ],
   "source": [
    "!adb devices"
   ]
  },
  {
   "cell_type": "code",
   "execution_count": null,
   "metadata": {
    "collapsed": true
   },
   "outputs": [],
   "source": []
  },
  {
   "cell_type": "code",
   "execution_count": 5,
   "metadata": {
    "collapsed": false
   },
   "outputs": [
    {
     "ename": "KeyboardInterrupt",
     "evalue": "",
     "output_type": "error",
     "traceback": [
      "\u001b[1;31m---------------------------------------------------------------------------\u001b[0m",
      "\u001b[1;31mKeyboardInterrupt\u001b[0m                         Traceback (most recent call last)",
      "\u001b[1;32m<ipython-input-5-b2de848593be>\u001b[0m in \u001b[0;36m<module>\u001b[1;34m()\u001b[0m\n\u001b[0;32m    116\u001b[0m \u001b[1;33m\u001b[0m\u001b[0m\n\u001b[0;32m    117\u001b[0m \u001b[1;33m\u001b[0m\u001b[0m\n\u001b[1;32m--> 118\u001b[1;33m \u001b[0mrevisar\u001b[0m\u001b[1;33m(\u001b[0m\u001b[1;33m)\u001b[0m\u001b[1;33m\u001b[0m\u001b[0m\n\u001b[0m",
      "\u001b[1;32m<ipython-input-5-b2de848593be>\u001b[0m in \u001b[0;36mrevisar\u001b[1;34m()\u001b[0m\n\u001b[0;32m     61\u001b[0m         \u001b[1;32mwhile\u001b[0m \u001b[0mbandera\u001b[0m\u001b[1;33m==\u001b[0m\u001b[1;36m0\u001b[0m\u001b[1;33m:\u001b[0m\u001b[1;33m\u001b[0m\u001b[0m\n\u001b[0;32m     62\u001b[0m                 \u001b[0mdroide\u001b[0m\u001b[1;33m.\u001b[0m\u001b[0mttsSpeak\u001b[0m\u001b[1;33m(\u001b[0m\u001b[1;34m'Esperando mensaje'\u001b[0m\u001b[1;33m)\u001b[0m\u001b[1;33m\u001b[0m\u001b[0m\n\u001b[1;32m---> 63\u001b[1;33m                 \u001b[0mmsgs\u001b[0m \u001b[1;33m=\u001b[0m \u001b[0mdroide\u001b[0m\u001b[1;33m.\u001b[0m\u001b[0msmsGetMessages\u001b[0m\u001b[1;33m(\u001b[0m\u001b[0mFalse\u001b[0m\u001b[1;33m)\u001b[0m\u001b[1;33m\u001b[0m\u001b[0m\n\u001b[0m\u001b[0;32m     64\u001b[0m                 \u001b[0mtotal\u001b[0m\u001b[1;33m=\u001b[0m\u001b[0mdroide\u001b[0m\u001b[1;33m.\u001b[0m\u001b[0msmsGetMessageCount\u001b[0m\u001b[1;33m(\u001b[0m\u001b[0mFalse\u001b[0m\u001b[1;33m)\u001b[0m\u001b[1;33m.\u001b[0m\u001b[0mresult\u001b[0m\u001b[1;33m\u001b[0m\u001b[0m\n\u001b[0;32m     65\u001b[0m                 \u001b[0mcontador\u001b[0m\u001b[1;33m=\u001b[0m\u001b[1;36m0\u001b[0m\u001b[1;33m\u001b[0m\u001b[0m\n",
      "\u001b[1;32mC:\\Users\\RAFAEL\\Android\\android.pyc\u001b[0m in \u001b[0;36mrpc_call\u001b[1;34m(*args)\u001b[0m\n\u001b[0;32m     56\u001b[0m   \u001b[1;32mdef\u001b[0m \u001b[0m__getattr__\u001b[0m\u001b[1;33m(\u001b[0m\u001b[0mself\u001b[0m\u001b[1;33m,\u001b[0m \u001b[0mname\u001b[0m\u001b[1;33m)\u001b[0m\u001b[1;33m:\u001b[0m\u001b[1;33m\u001b[0m\u001b[0m\n\u001b[0;32m     57\u001b[0m     \u001b[1;32mdef\u001b[0m \u001b[0mrpc_call\u001b[0m\u001b[1;33m(\u001b[0m\u001b[1;33m*\u001b[0m\u001b[0margs\u001b[0m\u001b[1;33m)\u001b[0m\u001b[1;33m:\u001b[0m\u001b[1;33m\u001b[0m\u001b[0m\n\u001b[1;32m---> 58\u001b[1;33m       \u001b[1;32mreturn\u001b[0m \u001b[0mself\u001b[0m\u001b[1;33m.\u001b[0m\u001b[0m_rpc\u001b[0m\u001b[1;33m(\u001b[0m\u001b[0mname\u001b[0m\u001b[1;33m,\u001b[0m \u001b[1;33m*\u001b[0m\u001b[0margs\u001b[0m\u001b[1;33m)\u001b[0m\u001b[1;33m\u001b[0m\u001b[0m\n\u001b[0m\u001b[0;32m     59\u001b[0m     \u001b[1;32mreturn\u001b[0m \u001b[0mrpc_call\u001b[0m\u001b[1;33m\u001b[0m\u001b[0m\n",
      "\u001b[1;32mC:\\Users\\RAFAEL\\Android\\android.pyc\u001b[0m in \u001b[0;36m_rpc\u001b[1;34m(self, method, *args)\u001b[0m\n\u001b[0;32m     45\u001b[0m     \u001b[0mself\u001b[0m\u001b[1;33m.\u001b[0m\u001b[0mclient\u001b[0m\u001b[1;33m.\u001b[0m\u001b[0mwrite\u001b[0m\u001b[1;33m(\u001b[0m\u001b[0mrequest\u001b[0m\u001b[1;33m+\u001b[0m\u001b[1;34m'\\n'\u001b[0m\u001b[1;33m)\u001b[0m\u001b[1;33m\u001b[0m\u001b[0m\n\u001b[0;32m     46\u001b[0m     \u001b[0mself\u001b[0m\u001b[1;33m.\u001b[0m\u001b[0mclient\u001b[0m\u001b[1;33m.\u001b[0m\u001b[0mflush\u001b[0m\u001b[1;33m(\u001b[0m\u001b[1;33m)\u001b[0m\u001b[1;33m\u001b[0m\u001b[0m\n\u001b[1;32m---> 47\u001b[1;33m     \u001b[0mresponse\u001b[0m \u001b[1;33m=\u001b[0m \u001b[0mself\u001b[0m\u001b[1;33m.\u001b[0m\u001b[0mclient\u001b[0m\u001b[1;33m.\u001b[0m\u001b[0mreadline\u001b[0m\u001b[1;33m(\u001b[0m\u001b[1;33m)\u001b[0m\u001b[1;33m\u001b[0m\u001b[0m\n\u001b[0m\u001b[0;32m     48\u001b[0m     \u001b[0mself\u001b[0m\u001b[1;33m.\u001b[0m\u001b[0mid\u001b[0m \u001b[1;33m+=\u001b[0m \u001b[1;36m1\u001b[0m\u001b[1;33m\u001b[0m\u001b[0m\n\u001b[0;32m     49\u001b[0m     \u001b[0mresult\u001b[0m \u001b[1;33m=\u001b[0m \u001b[0mjson\u001b[0m\u001b[1;33m.\u001b[0m\u001b[0mloads\u001b[0m\u001b[1;33m(\u001b[0m\u001b[0mresponse\u001b[0m\u001b[1;33m)\u001b[0m\u001b[1;33m\u001b[0m\u001b[0m\n",
      "\u001b[1;32mC:\\Anaconda\\lib\\socket.pyc\u001b[0m in \u001b[0;36mreadline\u001b[1;34m(self, size)\u001b[0m\n\u001b[0;32m    449\u001b[0m             \u001b[1;32mwhile\u001b[0m \u001b[0mTrue\u001b[0m\u001b[1;33m:\u001b[0m\u001b[1;33m\u001b[0m\u001b[0m\n\u001b[0;32m    450\u001b[0m                 \u001b[1;32mtry\u001b[0m\u001b[1;33m:\u001b[0m\u001b[1;33m\u001b[0m\u001b[0m\n\u001b[1;32m--> 451\u001b[1;33m                     \u001b[0mdata\u001b[0m \u001b[1;33m=\u001b[0m \u001b[0mself\u001b[0m\u001b[1;33m.\u001b[0m\u001b[0m_sock\u001b[0m\u001b[1;33m.\u001b[0m\u001b[0mrecv\u001b[0m\u001b[1;33m(\u001b[0m\u001b[0mself\u001b[0m\u001b[1;33m.\u001b[0m\u001b[0m_rbufsize\u001b[0m\u001b[1;33m)\u001b[0m\u001b[1;33m\u001b[0m\u001b[0m\n\u001b[0m\u001b[0;32m    452\u001b[0m                 \u001b[1;32mexcept\u001b[0m \u001b[0merror\u001b[0m\u001b[1;33m,\u001b[0m \u001b[0me\u001b[0m\u001b[1;33m:\u001b[0m\u001b[1;33m\u001b[0m\u001b[0m\n\u001b[0;32m    453\u001b[0m                     \u001b[1;32mif\u001b[0m \u001b[0me\u001b[0m\u001b[1;33m.\u001b[0m\u001b[0margs\u001b[0m\u001b[1;33m[\u001b[0m\u001b[1;36m0\u001b[0m\u001b[1;33m]\u001b[0m \u001b[1;33m==\u001b[0m \u001b[0mEINTR\u001b[0m\u001b[1;33m:\u001b[0m\u001b[1;33m\u001b[0m\u001b[0m\n",
      "\u001b[1;31mKeyboardInterrupt\u001b[0m: "
     ]
    }
   ],
   "source": [
    "%matplotlib inline\n",
    "import time \n",
    "import android\n",
    "import matplotlib.pyplot as plt\n",
    "import cv2\n",
    "import numpy as np\n",
    "import sys, os,re\n",
    "import pprint\n",
    "\n",
    "\n",
    "\n",
    "def mse(imageA, imageB):\n",
    "\t# the 'Mean Squared Error' between the two images is the\n",
    "\t# sum of the squared difference between the two images;\n",
    "\t# NOTE: the two images must have the same dimension\n",
    "\terr = np.sum((imageA.astype(\"float\") - imageB.astype(\"float\")) ** 2)\n",
    "\terr /= float(imageA.shape[0] * imageA.shape[1])\n",
    "\t\n",
    "\t# return the MSE, the lower the error, the more \"similar\"\n",
    "\t# the two images are\n",
    "\treturn err\n",
    " \n",
    "def compare_images(imageA, imageB, title):\n",
    "\t# compute the mean squared error and structural similarity\n",
    "\t# index for the images\n",
    "\tm = mse(imageA, imageB)\n",
    "\tprint  str(m)\n",
    "\t# s = ssim(imageA, imageB)\n",
    " \n",
    "\t# setup the figure\n",
    "\tfig = plt.figure(title)\n",
    "\t#plt.suptitle(\"MSE: %.2f, SSIM: %.2f\" % (m, s))\n",
    " \n",
    "\t# show first image\n",
    "\tax = fig.add_subplot(1, 2, 1)\n",
    "\tplt.imshow(imageA, cmap = plt.cm.gray)\n",
    "\tplt.axis(\"off\")\n",
    " \n",
    "\t# show the second image\n",
    "\tax = fig.add_subplot(1, 2, 2)\n",
    "\tplt.imshow(imageB, cmap = plt.cm.gray)\n",
    "\tplt.axis(\"off\")\n",
    " \n",
    "\t# show the images\n",
    "\tplt.show()\n",
    "\treturn m\n",
    "\n",
    "\n",
    "\n",
    "def revisar():\n",
    "\tdroide=android.Android()\n",
    "\tcounter=1\n",
    "\tdelay=5\n",
    "\tnumofShots = 5\n",
    "\tdelayBetweenShots=8\n",
    "\tcouterDecteccion=1\n",
    "\tdroide.ttsSpeak('Esperando alerta')\n",
    "\ttime.sleep(int(1))\n",
    "\tmensaje=''\n",
    "\tbandera=0    \n",
    "\twhile bandera==0: \n",
    "\t\tdroide.ttsSpeak('Esperando mensaje')\n",
    "\t\tmsgs = droide.smsGetMessages(False) \n",
    "\t\ttotal=droide.smsGetMessageCount(False).result\n",
    "\t\tcontador=0\n",
    "\t\twhile contador<total:\n",
    "\t\t\tif msgs.result[contador]['address'] is not None:\n",
    "\t\t\t\tif msgs.result[contador]['address']=='2851087970' or msgs.result[contador]['address']=='2281248059' or msgs.result[contador]['address']=='2299848788':\n",
    "\t\t\t\t\tmensaje= msgs.result[contador]['body']\n",
    "\t\t\t\t\tbreak\n",
    "\t\t\t\t\tbandera=1\n",
    "\t\t\tcontador+=1\n",
    "\twhile mensaje!='' : \n",
    "\t\tdroide.ttsSpeak('Tomando foto 1')\n",
    "\t\tdroide.cameraCapturePicture('/sdcard/DCIM/CAMERA/programa/foto_'+ str(couterDecteccion)+ '_.jpg',1,1)\n",
    "\t\tos.system('adb pull /sdcard/DCIM/CAMERA/programa/foto_'+ str(couterDecteccion)+ '_.jpg')\n",
    "\t\tpic = os.path.join('.','foto_'+  str(couterDecteccion)+ \"_.jpg\")\n",
    "\t\timg1 = cv2.imread(pic)\n",
    "\t\tcouterDecteccion +=1\n",
    "\t\ttime.sleep(int(delayBetweenShots))\n",
    "\t\t#droide.ttsSpeak('Tomando foto 2')\n",
    "\t\tdroide.cameraCapturePicture('/sdcard/DCIM/CAMERA/programa/foto_'+ str(couterDecteccion)+ '_.jpg',1,1)\n",
    "\t\tos.system('adb pull /sdcard/DCIM/CAMERA/programa/foto_'+ str(couterDecteccion)+ '_.jpg')\n",
    "\t\tpic = os.path.join('.','foto_'+  str(couterDecteccion)+ \"_.jpg\")\n",
    "\t\tcouterDecteccion +=1\n",
    "\t\timg2 =  cv2.imread(pic)\n",
    "\t\tplt.imshow(img1)\n",
    "\t\tplt.imshow(img2)\n",
    "\t\ti= img1.copy()\n",
    "\t\ti2=img2.copy()\n",
    "\t\tdiferente = compare_images(i,i2,'pruebacompare')\n",
    "\t\tcounter=0\n",
    "\t\tif diferente >1000:\n",
    "\t\t\tdroide.ttsSpeak('Imagen con cambio')\n",
    "\t\t\twhile counter <= int(numofShots):\n",
    "\t\t\t\tdroide.ttsSpeak('Tomando foto carrete '+ str(counter))\n",
    "\t\t\t\tdroide.cameraCapturePicture('/sdcard/DCIM/CAMERA/programa/fotoC_'+ str(counter)+ '_.jpg',1,1)\n",
    "\t\t\t\tos.system('adb pull /sdcard/DCIM/CAMERA/programa/fotoC_'+ str(counter)+ '_.jpg')\n",
    "\t\t\t\tpic = os.path.join('.','fotoC_'+  str(counter)+ \"_.jpg\")\n",
    "\t\t\t\tcounter +=1\n",
    "\t\t\t\timg2 =  cv2.imread(pic)\n",
    "\t\t\t\tplt.imshow(img1)\n",
    "\t\t\t\tplt.imshow(img2)\n",
    "\t\t\t\ti= img1.copy()\n",
    "\t\t\t\ti2=img2.copy()\n",
    "\t\t\t\tdiferente =compare_images(i,i2,'pruebacompare')\n",
    "\t\t\t\tif diferente <1000:\n",
    "\t\t\t\t\tdroide.ttsSpeak('Imagen parecida')\n",
    "\t\t\t\t\tbreak\n",
    "\t\t\t\ttime.sleep(int(1))\n",
    "\t\t##if response['which']=='negative':\n",
    "\t\tdroide.dialogShow()\n",
    "\t\tresponse = droide.dialogGetResponse().result\n",
    "\tprint 'Hecho sin errores ...'\n",
    "\tdel droide    \n",
    "    \n",
    "    \n",
    "revisar()"
   ]
  },
  {
   "cell_type": "code",
   "execution_count": null,
   "metadata": {
    "collapsed": true
   },
   "outputs": [],
   "source": []
  },
  {
   "cell_type": "code",
   "execution_count": null,
   "metadata": {
    "collapsed": true
   },
   "outputs": [],
   "source": []
  }
 ],
 "metadata": {
  "kernelspec": {
   "display_name": "Python 2",
   "language": "python",
   "name": "python2"
  },
  "language_info": {
   "codemirror_mode": {
    "name": "ipython",
    "version": 2
   },
   "file_extension": ".py",
   "mimetype": "text/x-python",
   "name": "python",
   "nbconvert_exporter": "python",
   "pygments_lexer": "ipython2",
   "version": "2.7.10"
  }
 },
 "nbformat": 4,
 "nbformat_minor": 0
}
