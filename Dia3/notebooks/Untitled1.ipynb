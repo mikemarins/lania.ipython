{
 "cells": [
  {
   "cell_type": "code",
   "execution_count": null,
   "metadata": {
    "collapsed": false
   },
   "outputs": [],
   "source": [
    "#!/usr/bin/python\n",
    " \n",
    "import numpy as np\n",
    "import cv2\n",
    "import cv\n",
    "import time\n",
    " \n",
    "def comprobarFichero():\n",
    " \n",
    "    existe = False\n",
    "    archivo = \"///sdcard/DCIM/CAMERA/lilo/\"\n",
    " \n",
    "    try: \n",
    "        fichero = open(archivo) \n",
    "        fichero.close()\n",
    "        existe = True \n",
    "    except: \n",
    "        existe = False\n",
    " \n",
    "    return existe\n",
    " \n",
    "tamanoMax = 400\n",
    "movimiento = False\n",
    " \n",
    "cam = cv2.VideoCapture(0)\n",
    " \n",
    "\n",
    "for x in xrange(1,100):\n",
    "    ret, frame = cam.read()\n",
    "\n",
    "        \n",
    "fgbg = cv2.BackgroundSubtractorMOG()\n",
    " \n",
    "while True:\n",
    "    ret, frame = cam.read()\n",
    " \n",
    "    if ret == True:\n",
    "        frame = cv2.resize(frame, (tamanoMax,tamanoMax))\n",
    "        gray = cv2.cvtColor(frame, cv2.COLOR_BGR2GRAY)\n",
    "        gray = cv2.bilateralFilter(gray, 11, 17, 17)\n",
    "        blur = cv2.blur(gray,(10,10))\n",
    " \n",
    "        fgmask = fgbg.apply(blur) # Aplicamos la mascara\n",
    " \n",
    "        columnas = cv2.reduce(fgmask,0,cv.CV_REDUCE_MAX)\n",
    "        filas = cv2.reduce(fgmask,1,cv.CV_REDUCE_MAX)\n",
    " \n",
    "        for x in xrange(1, len(columnas[0])):\n",
    "            if columnas[0][x] > 0:\n",
    "                movimiento = True\n",
    "                break\n",
    "            if movimiento == False:\n",
    "                for x in xrange(1, len(filas)):\n",
    "                    if filas[x,0] > 0:\n",
    "                        movimiento = True\n",
    "                        break\n",
    " \n",
    "        if movimiento == True and comprobarFichero():\n",
    "            nombre = time.strftime(\"%y%m%d-%H:%M:%S\")+\".jpg\"\n",
    "            path=\"//sdcard/DCIM/CAMERA/lilo/\"+nombre\n",
    "            cv2.imwrite(path,frame)\n",
    " \n",
    "            movimiento = False\n",
    " \n",
    "        if cv2.waitKey(1) & 0xFF == ord('q'):\n",
    "            break\n",
    "cv2.destroyAllWindows()"
   ]
  },
  {
   "cell_type": "code",
   "execution_count": 7,
   "metadata": {
    "collapsed": false
   },
   "outputs": [
    {
     "ename": "SyntaxError",
     "evalue": "'break' outside loop (<ipython-input-7-977df8043d1f>, line 1)",
     "output_type": "error",
     "traceback": [
      "\u001b[1;36m  File \u001b[1;32m\"<ipython-input-7-977df8043d1f>\"\u001b[1;36m, line \u001b[1;32m1\u001b[0m\n\u001b[1;33m    break\u001b[0m\n\u001b[1;31mSyntaxError\u001b[0m\u001b[1;31m:\u001b[0m 'break' outside loop\n"
     ]
    }
   ],
   "source": [
    "break\n",
    "cv2.destroyAllWindows()"
   ]
  }
 ],
 "metadata": {
  "kernelspec": {
   "display_name": "Python 2",
   "language": "python",
   "name": "python2"
  },
  "language_info": {
   "codemirror_mode": {
    "name": "ipython",
    "version": 2
   },
   "file_extension": ".py",
   "mimetype": "text/x-python",
   "name": "python",
   "nbconvert_exporter": "python",
   "pygments_lexer": "ipython2",
   "version": "2.7.10"
  }
 },
 "nbformat": 4,
 "nbformat_minor": 0
}
